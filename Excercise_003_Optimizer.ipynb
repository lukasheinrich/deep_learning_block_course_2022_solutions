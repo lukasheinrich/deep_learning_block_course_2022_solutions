{
 "cells": [
  {
   "cell_type": "markdown",
   "id": "74936939",
   "metadata": {},
   "source": [
    "Using PyTorch write the following function $f(\\phi) = (x - x_0)^2 + 0.2(y-y_0)^2$ as a functionof the vector-like parameter $\\phi = (x,y)$ with $x_0 = 1, y_0 = 2$"
   ]
  },
  {
   "cell_type": "code",
   "execution_count": 1,
   "id": "fefd4317",
   "metadata": {},
   "outputs": [],
   "source": [
    "import torch\n",
    "import numpy as np\n",
    "import matplotlib.pyplot as plt\n",
    "\n",
    "def func(pars):\n",
    "    x,y = pars[...,0],pars[...,1]\n",
    "    x0 = 1\n",
    "    y0 = 2\n",
    "    value = (x-x0)**2 + 0.2*(y-y0)**2\n",
    "    return value"
   ]
  },
  {
   "cell_type": "markdown",
   "id": "7e4019a2",
   "metadata": {},
   "source": [
    "Evaluate the function on the space -2 < x < 4 and -2 < y < 4 and draw the iso-lines for constance f"
   ]
  },
  {
   "cell_type": "code",
   "execution_count": 3,
   "id": "a46b72c8",
   "metadata": {},
   "outputs": [
    {
     "data": {
      "text/plain": [
       "<matplotlib.contour.QuadContourSet at 0x130be32b0>"
      ]
     },
     "execution_count": 3,
     "metadata": {},
     "output_type": "execute_result"
    },
    {
     "data": {
      "image/png": "[encoded data removed]",
      "text/plain": [
       "<Figure size 432x288 with 1 Axes>"
      ]
     },
     "metadata": {
      "needs_background": "light"
     },
     "output_type": "display_data"
    }
   ],
   "source": [
    "grid = np.mgrid[-2:4:101j,-2:4:101j]\n",
    "Xi = np.swapaxes(grid,0,-1).reshape(-1,2)\n",
    "yi = func(torch.FloatTensor(Xi))\n",
    "yi = yi.reshape(101,101).T\n",
    "plt.contourf(grid[0],grid[1],yi)"
   ]
  },
  {
   "cell_type": "markdown",
   "id": "fc0eba8d",
   "metadata": {},
   "source": [
    "Using PyTorch’s `.backward()` API, implement a manual version of gradient descent of the function from the last section.\n",
    "\n",
    "Tip: the parameter update is best done using the following\n",
    "\n",
    "```\n",
    "with torch.no_grad():\n",
    "     pars = …. new parameters\n",
    "     pars.requires_grad = True\n",
    "```\n",
    "\n",
    "Write the function such that you track the intermediate positions $(x,y)$ and the function value\n"
   ]
  },
  {
   "cell_type": "code",
   "execution_count": 24,
   "id": "119e78cb",
   "metadata": {},
   "outputs": [],
   "source": [
    "def manual_gradient_descent(init):\n",
    "    traj = []\n",
    "    pars = torch.tensor(init, requires_grad = True)\n",
    "    for i in range(5000):\n",
    "        out = func(pars)\n",
    "        out.backward()\n",
    "        with torch.no_grad():\n",
    "            pars = pars - 0.001*pars.grad\n",
    "            pars.requires_grad = True\n",
    "        if i % 100 == 0:\n",
    "            traj.append(np.concatenate([np.copy(pars.detach().numpy()),[float(out)]]))\n",
    "    traj = np.array(traj)\n",
    "    return traj\n",
    "\n",
    "t1 = manual_gradient_descent([3.,4.])\n",
    "t2 = manual_gradient_descent([-2.,-4.])"
   ]
  },
  {
   "cell_type": "markdown",
   "id": "245b0c80",
   "metadata": {},
   "source": [
    "Run Gradient Decent from a few initializations points and plot the trajectories"
   ]
  },
  {
   "cell_type": "code",
   "execution_count": 25,
   "id": "08942b73",
   "metadata": {},
   "outputs": [
    {
     "data": {
      "text/plain": [
       "<matplotlib.colorbar.Colorbar at 0x1404b3250>"
      ]
     },
     "execution_count": 25,
     "metadata": {},
     "output_type": "execute_result"
    },
    {
     "data": {
      "image/png": "[encoded data removed]",
      "text/plain": [
       "<Figure size 432x288 with 2 Axes>"
      ]
     },
     "metadata": {
      "needs_background": "light"
     },
     "output_type": "display_data"
    }
   ],
   "source": [
    "grid = np.mgrid[-5:5:101j,-5:5:101j]\n",
    "Xi = np.swapaxes(grid,0,-1).reshape(-1,2)\n",
    "yi = func(torch.FloatTensor(Xi))\n",
    "yi = yi.reshape(101,101).T\n",
    "plt.contourf(grid[0],grid[1],yi)\n",
    "for traj in [t1,t2]:\n",
    "    plt.plot(traj[:,0],traj[:,1], c = 'w')\n",
    "    plt.scatter(traj[:,0],traj[:,1], c = 'w', label = 'gradient descent')\n",
    "plt.legend()\n",
    "plt.xlabel('x')\n",
    "plt.xlabel('y')\n",
    "plt.colorbar()"
   ]
  },
  {
   "cell_type": "markdown",
   "id": "19339b5b",
   "metadata": {},
   "source": [
    "Perform an Optimization on the above problem using the torch.nn.Adam optimizer and compare it to the manual gradient descent"
   ]
  },
  {
   "cell_type": "code",
   "execution_count": 29,
   "id": "dd1821b9",
   "metadata": {},
   "outputs": [],
   "source": [
    "def adam_gradient_descent(init):\n",
    "    traj = []\n",
    "    pars = torch.tensor(init, requires_grad = True)\n",
    "    opt = torch.optim.Adam([pars],1e-3)\n",
    "    for i in range(5000):\n",
    "        out = func(pars.requires_grad_(True))\n",
    "        out.backward()\n",
    "        opt.step()\n",
    "        opt.zero_grad()\n",
    "        if i % 100 == 0:\n",
    "            traj.append(np.concatenate([np.copy(pars.detach().numpy()),[float(out)]]))\n",
    "    traj = np.array(traj)\n",
    "    return traj\n",
    "\n",
    "t1_gd = manual_gradient_descent([4.,4.])\n",
    "t2_adam = adam_gradient_descent([4.,4.])"
   ]
  },
  {
   "cell_type": "code",
   "execution_count": 31,
   "id": "8255b162",
   "metadata": {},
   "outputs": [
    {
     "name": "stderr",
     "output_type": "stream",
     "text": [
      "No artists with labels found to put in legend.  Note that artists whose label start with an underscore are ignored when legend() is called with no argument.\n"
     ]
    },
    {
     "data": {
      "text/plain": [
       "<matplotlib.legend.Legend at 0x16807ee20>"
      ]
     },
     "execution_count": 31,
     "metadata": {},
     "output_type": "execute_result"
    },
    {
     "data": {
      "image/png": "[encoded data removed]",
      "text/plain": [
       "<Figure size 432x288 with 1 Axes>"
      ]
     },
     "metadata": {
      "needs_background": "light"
     },
     "output_type": "display_data"
    }
   ],
   "source": [
    "grid = np.mgrid[-5:5:101j,-5:5:101j]\n",
    "Xi = np.swapaxes(grid,0,-1).reshape(-1,2)\n",
    "yi = func(torch.FloatTensor(Xi))\n",
    "yi = yi.reshape(101,101).T\n",
    "plt.contourf(grid[0],grid[1],yi)\n",
    "for traj,names in zip([t1_gd,t2_adam], ['GD','Adam']):\n",
    "    plt.plot(traj[:,0],traj[:,1])\n",
    "    plt.scatter(traj[:,0],traj[:,1])\n",
    "plt.legend()"
   ]
  },
  {
   "cell_type": "markdown",
   "id": "da63c423",
   "metadata": {},
   "source": [
    "Plot the function value $f(\\phi)$ as a function of the iteration step"
   ]
  },
  {
   "cell_type": "code",
   "execution_count": 32,
   "id": "cc0beeff",
   "metadata": {},
   "outputs": [
    {
     "data": {
      "text/plain": [
       "[<matplotlib.lines.Line2D at 0x168106550>]"
      ]
     },
     "execution_count": 32,
     "metadata": {},
     "output_type": "execute_result"
    },
    {
     "data": {
      "image/png": "[encoded data removed]",
      "text/plain": [
       "<Figure size 432x288 with 1 Axes>"
      ]
     },
     "metadata": {
      "needs_background": "light"
     },
     "output_type": "display_data"
    }
   ],
   "source": [
    "plt.plot(t1[:,-1], label = 'GD')\n",
    "plt.plot(t2[:,-1], label = 'Adam')"
   ]
  },
  {
   "cell_type": "code",
   "execution_count": null,
   "id": "47bbc39e",
   "metadata": {},
   "outputs": [],
   "source": []
  },
  {
   "cell_type": "code",
   "execution_count": null,
   "id": "cfb5f2dd",
   "metadata": {},
   "outputs": [],
   "source": []
  }
 ],
 "metadata": {
  "kernelspec": {
   "display_name": "Python 3.9.11 64-bit",
   "language": "python",
   "name": "python3"
  },
  "language_info": {
   "codemirror_mode": {
    "name": "ipython",
    "version": 3
   },
   "file_extension": ".py",
   "mimetype": "text/x-python",
   "name": "python",
   "nbconvert_exporter": "python",
   "pygments_lexer": "ipython3",
   "version": "3.9.11"
  },
  "vscode": {
   "interpreter": {
    "hash": "ed7bb315bd9ba9991fb64f7d57c4a97fc7417ad20760dc96481209df3686a5a3"
   }
  }
 },
 "nbformat": 4,
 "nbformat_minor": 5
}
